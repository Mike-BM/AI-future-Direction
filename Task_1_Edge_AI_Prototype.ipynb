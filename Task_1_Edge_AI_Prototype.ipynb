{
  "nbformat": 4,
  "nbformat_minor": 0,
  "metadata": {
    "colab": {
      "provenance": []
    },
    "kernelspec": {
      "name": "python3",
      "display_name": "Python 3"
    },
    "language_info": {
      "name": "python"
    }
  },
  "cells": [
    {
      "cell_type": "code",
      "execution_count": 1,
      "metadata": {
        "id": "I_3ZmOcpUIJI"
      },
      "outputs": [],
      "source": [
        "# Download directly from Mendeley (version 3, ~267MB)\n",
        "!wget -q https://prod-dcd-datasets-cache-zipfiles.s3.eu-west-1.amazonaws.com/n3gtgm9jxj-3.zip -O waste_dataset.zip\n",
        "\n",
        "# Unzip\n",
        "!unzip -q waste_dataset.zip -d /content/waste_data\n"
      ]
    },
    {
      "cell_type": "code",
      "source": [
        "#Check the Real Directory Structure\n",
        "import os\n",
        "\n",
        "import os\n",
        "\n",
        "# List top-level directory\n",
        "print(\"Top-level:\", os.listdir(\"/content/waste_data\"))\n",
        "\n",
        "# List subfolders inside waste_data\n",
        "for root, dirs, files in os.walk(\"/content/waste_data\"):\n",
        "    print(\"📁\", root)\n",
        "    for d in dirs:\n",
        "        print(\"   └──\", d)\n",
        "    break\n",
        "\n"
      ],
      "metadata": {
        "id": "B6oGCJ1GUKPq",
        "colab": {
          "base_uri": "https://localhost:8080/"
        },
        "outputId": "9bbaec11-ed44-431d-a896-e8e686beefb1"
      },
      "execution_count": 2,
      "outputs": [
        {
          "output_type": "stream",
          "name": "stdout",
          "text": [
            "Top-level: ['Waste Classification Dataset']\n",
            "📁 /content/waste_data\n",
            "   └── Waste Classification Dataset\n"
          ]
        }
      ]
    },
    {
      "cell_type": "code",
      "source": [
        "#update path\n",
        "base_dir = '/content/waste_data/Waste Classification Dataset'\n",
        "train_dir = os.path.join(base_dir, 'train')\n",
        "val_dir = os.path.join(base_dir, 'test')\n"
      ],
      "metadata": {
        "id": "rCkLcj9NUvzx"
      },
      "execution_count": 3,
      "outputs": []
    },
    {
      "cell_type": "code",
      "source": [
        "import os\n",
        "\n",
        "for root, dirs, files in os.walk(\"/content/waste_data\"):\n",
        "    print(f\"\\n📁 {root}\")\n",
        "    for d in dirs:\n",
        "        print(f\" └── {d}\")\n",
        "\n"
      ],
      "metadata": {
        "id": "yYzQNu7UUyM_",
        "colab": {
          "base_uri": "https://localhost:8080/"
        },
        "outputId": "756fc225-6d5e-40e2-d83f-1bbfd0d63a98"
      },
      "execution_count": 4,
      "outputs": [
        {
          "output_type": "stream",
          "name": "stdout",
          "text": [
            "\n",
            "📁 /content/waste_data\n",
            " └── Waste Classification Dataset\n",
            "\n",
            "📁 /content/waste_data/Waste Classification Dataset\n",
            " └── waste_dataset\n",
            "\n",
            "📁 /content/waste_data/Waste Classification Dataset/waste_dataset\n",
            " └── organic\n",
            " └── recyclable\n",
            "\n",
            "📁 /content/waste_data/Waste Classification Dataset/waste_dataset/organic\n",
            "\n",
            "📁 /content/waste_data/Waste Classification Dataset/waste_dataset/recyclable\n"
          ]
        }
      ]
    },
    {
      "cell_type": "code",
      "source": [
        "#Define correct path\n",
        "import os\n",
        "\n",
        "base_dir = '/content/waste_data/Waste Classification Dataset/waste_dataset'\n",
        "print(\"Classes:\", os.listdir(base_dir))  # Should print ['recyclable', 'organic']\n"
      ],
      "metadata": {
        "id": "8Zyb4TQ3VOWL",
        "colab": {
          "base_uri": "https://localhost:8080/"
        },
        "outputId": "f5fe0e56-4377-430c-ee22-12c6908a7b5f"
      },
      "execution_count": 5,
      "outputs": [
        {
          "output_type": "stream",
          "name": "stdout",
          "text": [
            "Classes: ['organic', 'waste_dataset_CNN.ipynb', 'waste_dataset_augmentation.ipynb', 'waste_dataset_README.txt', 'recyclable']\n"
          ]
        }
      ]
    },
    {
      "cell_type": "code",
      "source": [
        "#Create a train/test split (using split_folders)\n",
        "!pip install split-folders\n",
        "\n",
        "import splitfolders\n",
        "\n",
        "# Create split dataset folders\n",
        "splitfolders.ratio(base_dir, output=\"/content/waste_split\", seed=42, ratio=(.8, .2))\n"
      ],
      "metadata": {
        "id": "uUSkf25HVQNh",
        "colab": {
          "base_uri": "https://localhost:8080/"
        },
        "outputId": "d8b8d1cb-a50f-495f-e8c0-b8e5fd1fa0c0"
      },
      "execution_count": 6,
      "outputs": [
        {
          "output_type": "stream",
          "name": "stdout",
          "text": [
            "Collecting split-folders\n",
            "  Downloading split_folders-0.5.1-py3-none-any.whl.metadata (6.2 kB)\n",
            "Downloading split_folders-0.5.1-py3-none-any.whl (8.4 kB)\n",
            "Installing collected packages: split-folders\n",
            "Successfully installed split-folders-0.5.1\n"
          ]
        },
        {
          "output_type": "stream",
          "name": "stderr",
          "text": [
            "Copying files: 24705 files [00:04, 5058.78 files/s]\n"
          ]
        }
      ]
    },
    {
      "cell_type": "code",
      "source": [
        "#Load images for training\n",
        "from tensorflow.keras.preprocessing.image import ImageDataGenerator\n",
        "\n",
        "img_size = (160, 160)\n",
        "batch_size = 32\n",
        "\n",
        "train_dir = \"/content/waste_split/train\"\n",
        "val_dir = \"/content/waste_split/val\"\n",
        "\n",
        "datagen = ImageDataGenerator(rescale=1./255)\n",
        "\n",
        "train_gen = datagen.flow_from_directory(train_dir, target_size=img_size,\n",
        "                                        batch_size=batch_size, class_mode='categorical')\n",
        "\n",
        "val_gen = datagen.flow_from_directory(val_dir, target_size=img_size,\n",
        "                                      batch_size=batch_size, class_mode='categorical')\n"
      ],
      "metadata": {
        "id": "G6alxDeWV96o",
        "colab": {
          "base_uri": "https://localhost:8080/"
        },
        "outputId": "b99502f6-4b22-4545-b4a0-0eefdc0edf0e"
      },
      "execution_count": 7,
      "outputs": [
        {
          "output_type": "stream",
          "name": "stdout",
          "text": [
            "Found 19764 images belonging to 2 classes.\n",
            "Found 4941 images belonging to 2 classes.\n"
          ]
        }
      ]
    },
    {
      "cell_type": "code",
      "source": [
        "##Load and train the MobileNetV2 Model\n",
        "from tensorflow.keras.preprocessing.image import ImageDataGenerator\n",
        "from tensorflow.keras.applications import MobileNetV2\n",
        "from tensorflow.keras import layers, models\n",
        "import tensorflow as tf\n",
        "\n",
        "# Define paths\n",
        "train_dir = \"/content/waste_split/train\"\n",
        "val_dir = \"/content/waste_split/val\"\n",
        "\n",
        "# Set image size and batch size\n",
        "img_size = (160, 160)\n",
        "batch_size = 32\n",
        "\n",
        "# Load and normalize images\n",
        "datagen = ImageDataGenerator(rescale=1./255)\n",
        "\n",
        "train_gen = datagen.flow_from_directory(train_dir, target_size=img_size, batch_size=batch_size, class_mode='categorical')\n",
        "val_gen   = datagen.flow_from_directory(val_dir,   target_size=img_size, batch_size=batch_size, class_mode='categorical')\n",
        "\n",
        "# Build lightweight MobileNetV2 model\n",
        "base_model = MobileNetV2(input_shape=(160,160,3), include_top=False, weights='imagenet')\n",
        "base_model.trainable = False\n",
        "\n",
        "model = models.Sequential([\n",
        "    base_model,\n",
        "    layers.GlobalAveragePooling2D(),\n",
        "    layers.Dense(128, activation='relu'),\n",
        "    layers.Dense(train_gen.num_classes, activation='softmax')\n",
        "])\n",
        "\n",
        "model.compile(optimizer='adam', loss='categorical_crossentropy', metrics=['accuracy'])\n",
        "\n",
        "# Train the model\n",
        "model.fit(train_gen, validation_data=val_gen, epochs=5)\n",
        "\n",
        "# Save model\n",
        "model.save(\"waste_model.keras\")"
      ],
      "metadata": {
        "id": "w1US67yiWBEY",
        "colab": {
          "base_uri": "https://localhost:8080/"
        },
        "outputId": "42ff012b-ba74-48e5-9610-94e06157604f"
      },
      "execution_count": 10,
      "outputs": [
        {
          "output_type": "stream",
          "name": "stdout",
          "text": [
            "Found 19764 images belonging to 2 classes.\n",
            "Found 4941 images belonging to 2 classes.\n",
            "Epoch 1/5\n",
            "\u001b[1m618/618\u001b[0m \u001b[32m━━━━━━━━━━━━━━━━━━━━\u001b[0m\u001b[37m\u001b[0m \u001b[1m0s\u001b[0m 607ms/step - accuracy: 0.9061 - loss: 0.2304"
          ]
        },
        {
          "output_type": "stream",
          "name": "stderr",
          "text": [
            "/usr/local/lib/python3.11/dist-packages/keras/src/trainers/data_adapters/py_dataset_adapter.py:121: UserWarning: Your `PyDataset` class should call `super().__init__(**kwargs)` in its constructor. `**kwargs` can include `workers`, `use_multiprocessing`, `max_queue_size`. Do not pass these arguments to `fit()`, as they will be ignored.\n",
            "  self._warn_if_super_not_called()\n"
          ]
        },
        {
          "output_type": "stream",
          "name": "stdout",
          "text": [
            "\b\b\b\b\b\b\b\b\b\b\b\b\b\b\b\b\b\b\b\b\b\b\b\b\b\b\b\b\b\b\b\b\b\b\b\b\b\b\b\b\b\b\b\b\b\b\b\b\b\b\b\b\b\b\b\b\b\b\b\b\b\b\b\b\b\b\b\b\b\b\b\b\b\b\b\b\r\u001b[1m618/618\u001b[0m \u001b[32m━━━━━━━━━━━━━━━━━━━━\u001b[0m\u001b[37m\u001b[0m \u001b[1m525s\u001b[0m 839ms/step - accuracy: 0.9062 - loss: 0.2304 - val_accuracy: 0.9417 - val_loss: 0.1591\n",
            "Epoch 2/5\n",
            "\u001b[1m618/618\u001b[0m \u001b[32m━━━━━━━━━━━━━━━━━━━━\u001b[0m\u001b[37m\u001b[0m \u001b[1m418s\u001b[0m 676ms/step - accuracy: 0.9549 - loss: 0.1179 - val_accuracy: 0.9470 - val_loss: 0.1514\n",
            "Epoch 3/5\n",
            "\u001b[1m618/618\u001b[0m \u001b[32m━━━━━━━━━━━━━━━━━━━━\u001b[0m\u001b[37m\u001b[0m \u001b[1m425s\u001b[0m 688ms/step - accuracy: 0.9686 - loss: 0.0824 - val_accuracy: 0.9431 - val_loss: 0.1791\n",
            "Epoch 4/5\n",
            "\u001b[1m618/618\u001b[0m \u001b[32m━━━━━━━━━━━━━━━━━━━━\u001b[0m\u001b[37m\u001b[0m \u001b[1m458s\u001b[0m 741ms/step - accuracy: 0.9848 - loss: 0.0473 - val_accuracy: 0.9492 - val_loss: 0.1692\n",
            "Epoch 5/5\n",
            "\u001b[1m618/618\u001b[0m \u001b[32m━━━━━━━━━━━━━━━━━━━━\u001b[0m\u001b[37m\u001b[0m \u001b[1m435s\u001b[0m 704ms/step - accuracy: 0.9910 - loss: 0.0275 - val_accuracy: 0.9482 - val_loss: 0.1810\n"
          ]
        }
      ]
    },
    {
      "cell_type": "markdown",
      "source": [],
      "metadata": {
        "id": "QmYMU7TPoM-D"
      }
    },
    {
      "cell_type": "markdown",
      "source": [],
      "metadata": {
        "id": "zAtvbbN2oPiO"
      }
    },
    {
      "cell_type": "code",
      "source": [],
      "metadata": {
        "id": "KmCtdUGsoRD-"
      },
      "execution_count": null,
      "outputs": []
    },
    {
      "cell_type": "code",
      "source": [
        "#Converting to TensorFlow Lite\n",
        "import tensorflow as tf\n",
        "\n",
        "# Load the saved Keras model\n",
        "model = tf.keras.models.load_model(\"waste_model.keras\")\n",
        "\n",
        "# Convert the Keras model to TFLite format\n",
        "converter = tf.lite.TFLiteConverter.from_keras_model(model)\n",
        "tflite_model = converter.convert()\n",
        "\n",
        "# Save the TFLite model\n",
        "with open(\"waste_model.tflite\", \"wb\") as f:\n",
        "    f.write(tflite_model)\n",
        "\n",
        "print(\"Model converted to TFLite and saved as waste_model.tflite\")"
      ],
      "metadata": {
        "id": "eKBXPmVya_fy",
        "colab": {
          "base_uri": "https://localhost:8080/"
        },
        "outputId": "c3503b34-1849-47b5-f662-81055dc21efe"
      },
      "execution_count": 11,
      "outputs": [
        {
          "output_type": "stream",
          "name": "stdout",
          "text": [
            "Saved artifact at '/tmp/tmpssxlzp4u'. The following endpoints are available:\n",
            "\n",
            "* Endpoint 'serve'\n",
            "  args_0 (POSITIONAL_ONLY): TensorSpec(shape=(None, 160, 160, 3), dtype=tf.float32, name='input_layer_3')\n",
            "Output Type:\n",
            "  TensorSpec(shape=(None, 2), dtype=tf.float32, name=None)\n",
            "Captures:\n",
            "  140119596510544: TensorSpec(shape=(), dtype=tf.resource, name=None)\n",
            "  140119596511888: TensorSpec(shape=(), dtype=tf.resource, name=None)\n",
            "  140119596509392: TensorSpec(shape=(), dtype=tf.resource, name=None)\n",
            "  140119596509008: TensorSpec(shape=(), dtype=tf.resource, name=None)\n",
            "  140119596510736: TensorSpec(shape=(), dtype=tf.resource, name=None)\n",
            "  140119596510352: TensorSpec(shape=(), dtype=tf.resource, name=None)\n",
            "  140119596510160: TensorSpec(shape=(), dtype=tf.resource, name=None)\n",
            "  140119596512080: TensorSpec(shape=(), dtype=tf.resource, name=None)\n",
            "  140119596512464: TensorSpec(shape=(), dtype=tf.resource, name=None)\n",
            "  140119596504016: TensorSpec(shape=(), dtype=tf.resource, name=None)\n",
            "  140119596514576: TensorSpec(shape=(), dtype=tf.resource, name=None)\n",
            "  140119596515152: TensorSpec(shape=(), dtype=tf.resource, name=None)\n",
            "  140119596513808: TensorSpec(shape=(), dtype=tf.resource, name=None)\n",
            "  140119596514960: TensorSpec(shape=(), dtype=tf.resource, name=None)\n",
            "  140119596513424: TensorSpec(shape=(), dtype=tf.resource, name=None)\n",
            "  140119551623440: TensorSpec(shape=(), dtype=tf.resource, name=None)\n",
            "  140119551624784: TensorSpec(shape=(), dtype=tf.resource, name=None)\n",
            "  140119551625168: TensorSpec(shape=(), dtype=tf.resource, name=None)\n",
            "  140119551624976: TensorSpec(shape=(), dtype=tf.resource, name=None)\n",
            "  140119551623632: TensorSpec(shape=(), dtype=tf.resource, name=None)\n",
            "  140119551626320: TensorSpec(shape=(), dtype=tf.resource, name=None)\n",
            "  140119551626704: TensorSpec(shape=(), dtype=tf.resource, name=None)\n",
            "  140119551627088: TensorSpec(shape=(), dtype=tf.resource, name=None)\n",
            "  140119551626896: TensorSpec(shape=(), dtype=tf.resource, name=None)\n",
            "  140119551624208: TensorSpec(shape=(), dtype=tf.resource, name=None)\n",
            "  140119551628240: TensorSpec(shape=(), dtype=tf.resource, name=None)\n",
            "  140119551628624: TensorSpec(shape=(), dtype=tf.resource, name=None)\n",
            "  140119551629008: TensorSpec(shape=(), dtype=tf.resource, name=None)\n",
            "  140119551628816: TensorSpec(shape=(), dtype=tf.resource, name=None)\n",
            "  140119551624400: TensorSpec(shape=(), dtype=tf.resource, name=None)\n",
            "  140119551630160: TensorSpec(shape=(), dtype=tf.resource, name=None)\n",
            "  140119551630544: TensorSpec(shape=(), dtype=tf.resource, name=None)\n",
            "  140119551630928: TensorSpec(shape=(), dtype=tf.resource, name=None)\n",
            "  140119551630736: TensorSpec(shape=(), dtype=tf.resource, name=None)\n",
            "  140119551625936: TensorSpec(shape=(), dtype=tf.resource, name=None)\n",
            "  140119551632080: TensorSpec(shape=(), dtype=tf.resource, name=None)\n",
            "  140119551632464: TensorSpec(shape=(), dtype=tf.resource, name=None)\n",
            "  140119551632848: TensorSpec(shape=(), dtype=tf.resource, name=None)\n",
            "  140119551632656: TensorSpec(shape=(), dtype=tf.resource, name=None)\n",
            "  140119551627856: TensorSpec(shape=(), dtype=tf.resource, name=None)\n",
            "  140119551634000: TensorSpec(shape=(), dtype=tf.resource, name=None)\n",
            "  140119551634384: TensorSpec(shape=(), dtype=tf.resource, name=None)\n",
            "  140119551634768: TensorSpec(shape=(), dtype=tf.resource, name=None)\n",
            "  140119551634576: TensorSpec(shape=(), dtype=tf.resource, name=None)\n",
            "  140119551629776: TensorSpec(shape=(), dtype=tf.resource, name=None)\n",
            "  140119551636496: TensorSpec(shape=(), dtype=tf.resource, name=None)\n",
            "  140119551637648: TensorSpec(shape=(), dtype=tf.resource, name=None)\n",
            "  140119551637264: TensorSpec(shape=(), dtype=tf.resource, name=None)\n",
            "  140119551636688: TensorSpec(shape=(), dtype=tf.resource, name=None)\n",
            "  140119551637456: TensorSpec(shape=(), dtype=tf.resource, name=None)\n",
            "  140119551639184: TensorSpec(shape=(), dtype=tf.resource, name=None)\n",
            "  140119566255504: TensorSpec(shape=(), dtype=tf.resource, name=None)\n",
            "  140119551638416: TensorSpec(shape=(), dtype=tf.resource, name=None)\n",
            "  140119551638032: TensorSpec(shape=(), dtype=tf.resource, name=None)\n",
            "  140119551637072: TensorSpec(shape=(), dtype=tf.resource, name=None)\n",
            "  140119551633616: TensorSpec(shape=(), dtype=tf.resource, name=None)\n",
            "  140119566256464: TensorSpec(shape=(), dtype=tf.resource, name=None)\n",
            "  140119566254928: TensorSpec(shape=(), dtype=tf.resource, name=None)\n",
            "  140119551635152: TensorSpec(shape=(), dtype=tf.resource, name=None)\n",
            "  140119551631696: TensorSpec(shape=(), dtype=tf.resource, name=None)\n",
            "  140119566255312: TensorSpec(shape=(), dtype=tf.resource, name=None)\n",
            "  140119566256848: TensorSpec(shape=(), dtype=tf.resource, name=None)\n",
            "  140119566257232: TensorSpec(shape=(), dtype=tf.resource, name=None)\n",
            "  140119566257040: TensorSpec(shape=(), dtype=tf.resource, name=None)\n",
            "  140119566254544: TensorSpec(shape=(), dtype=tf.resource, name=None)\n",
            "  140119566258384: TensorSpec(shape=(), dtype=tf.resource, name=None)\n",
            "  140119566258768: TensorSpec(shape=(), dtype=tf.resource, name=None)\n",
            "  140119566259152: TensorSpec(shape=(), dtype=tf.resource, name=None)\n",
            "  140119566258960: TensorSpec(shape=(), dtype=tf.resource, name=None)\n",
            "  140119566255696: TensorSpec(shape=(), dtype=tf.resource, name=None)\n",
            "  140119566260304: TensorSpec(shape=(), dtype=tf.resource, name=None)\n",
            "  140119566260688: TensorSpec(shape=(), dtype=tf.resource, name=None)\n",
            "  140119566261072: TensorSpec(shape=(), dtype=tf.resource, name=None)\n",
            "  140119566260880: TensorSpec(shape=(), dtype=tf.resource, name=None)\n",
            "  140119566256080: TensorSpec(shape=(), dtype=tf.resource, name=None)\n",
            "  140119566262224: TensorSpec(shape=(), dtype=tf.resource, name=None)\n",
            "  140119566262608: TensorSpec(shape=(), dtype=tf.resource, name=None)\n",
            "  140119566262992: TensorSpec(shape=(), dtype=tf.resource, name=None)\n",
            "  140119566262800: TensorSpec(shape=(), dtype=tf.resource, name=None)\n",
            "  140119566258000: TensorSpec(shape=(), dtype=tf.resource, name=None)\n",
            "  140119566264144: TensorSpec(shape=(), dtype=tf.resource, name=None)\n",
            "  140119566264528: TensorSpec(shape=(), dtype=tf.resource, name=None)\n",
            "  140119566264912: TensorSpec(shape=(), dtype=tf.resource, name=None)\n",
            "  140119566264720: TensorSpec(shape=(), dtype=tf.resource, name=None)\n",
            "  140119566259920: TensorSpec(shape=(), dtype=tf.resource, name=None)\n",
            "  140119566266064: TensorSpec(shape=(), dtype=tf.resource, name=None)\n",
            "  140119566267984: TensorSpec(shape=(), dtype=tf.resource, name=None)\n",
            "  140119566269328: TensorSpec(shape=(), dtype=tf.resource, name=None)\n",
            "  140119566266640: TensorSpec(shape=(), dtype=tf.resource, name=None)\n",
            "  140119566261840: TensorSpec(shape=(), dtype=tf.resource, name=None)\n",
            "  140119566268176: TensorSpec(shape=(), dtype=tf.resource, name=None)\n",
            "  140119566255120: TensorSpec(shape=(), dtype=tf.resource, name=None)\n",
            "  140119566265680: TensorSpec(shape=(), dtype=tf.resource, name=None)\n",
            "  140119566266448: TensorSpec(shape=(), dtype=tf.resource, name=None)\n",
            "  140119566268560: TensorSpec(shape=(), dtype=tf.resource, name=None)\n",
            "  140119566269904: TensorSpec(shape=(), dtype=tf.resource, name=None)\n",
            "  140119566268752: TensorSpec(shape=(), dtype=tf.resource, name=None)\n",
            "  140119566270288: TensorSpec(shape=(), dtype=tf.resource, name=None)\n",
            "  140119566270096: TensorSpec(shape=(), dtype=tf.resource, name=None)\n",
            "  140119566263760: TensorSpec(shape=(), dtype=tf.resource, name=None)\n",
            "  140119565861328: TensorSpec(shape=(), dtype=tf.resource, name=None)\n",
            "  140119565862672: TensorSpec(shape=(), dtype=tf.resource, name=None)\n",
            "  140119565863056: TensorSpec(shape=(), dtype=tf.resource, name=None)\n",
            "  140119565862864: TensorSpec(shape=(), dtype=tf.resource, name=None)\n",
            "  140119565861520: TensorSpec(shape=(), dtype=tf.resource, name=None)\n",
            "  140119565864208: TensorSpec(shape=(), dtype=tf.resource, name=None)\n",
            "  140119565864592: TensorSpec(shape=(), dtype=tf.resource, name=None)\n",
            "  140119565864976: TensorSpec(shape=(), dtype=tf.resource, name=None)\n",
            "  140119565864784: TensorSpec(shape=(), dtype=tf.resource, name=None)\n",
            "  140119565862096: TensorSpec(shape=(), dtype=tf.resource, name=None)\n",
            "  140119565866128: TensorSpec(shape=(), dtype=tf.resource, name=None)\n",
            "  140119565866512: TensorSpec(shape=(), dtype=tf.resource, name=None)\n",
            "  140119565866896: TensorSpec(shape=(), dtype=tf.resource, name=None)\n",
            "  140119565866704: TensorSpec(shape=(), dtype=tf.resource, name=None)\n",
            "  140119565862288: TensorSpec(shape=(), dtype=tf.resource, name=None)\n",
            "  140119565868048: TensorSpec(shape=(), dtype=tf.resource, name=None)\n",
            "  140119565868432: TensorSpec(shape=(), dtype=tf.resource, name=None)\n",
            "  140119565868816: TensorSpec(shape=(), dtype=tf.resource, name=None)\n",
            "  140119565868624: TensorSpec(shape=(), dtype=tf.resource, name=None)\n",
            "  140119565863824: TensorSpec(shape=(), dtype=tf.resource, name=None)\n",
            "  140119565869968: TensorSpec(shape=(), dtype=tf.resource, name=None)\n",
            "  140119565870352: TensorSpec(shape=(), dtype=tf.resource, name=None)\n",
            "  140119565870736: TensorSpec(shape=(), dtype=tf.resource, name=None)\n",
            "  140119565870544: TensorSpec(shape=(), dtype=tf.resource, name=None)\n",
            "  140119565865744: TensorSpec(shape=(), dtype=tf.resource, name=None)\n",
            "  140119565871888: TensorSpec(shape=(), dtype=tf.resource, name=None)\n",
            "  140119565872272: TensorSpec(shape=(), dtype=tf.resource, name=None)\n",
            "  140119565872656: TensorSpec(shape=(), dtype=tf.resource, name=None)\n",
            "  140119565872464: TensorSpec(shape=(), dtype=tf.resource, name=None)\n",
            "  140119565867664: TensorSpec(shape=(), dtype=tf.resource, name=None)\n",
            "  140119565873808: TensorSpec(shape=(), dtype=tf.resource, name=None)\n",
            "  140119565874192: TensorSpec(shape=(), dtype=tf.resource, name=None)\n",
            "  140119565874576: TensorSpec(shape=(), dtype=tf.resource, name=None)\n",
            "  140119565874384: TensorSpec(shape=(), dtype=tf.resource, name=None)\n",
            "  140119565869584: TensorSpec(shape=(), dtype=tf.resource, name=None)\n",
            "  140119565875728: TensorSpec(shape=(), dtype=tf.resource, name=None)\n",
            "  140119565876112: TensorSpec(shape=(), dtype=tf.resource, name=None)\n",
            "  140119565876880: TensorSpec(shape=(), dtype=tf.resource, name=None)\n",
            "  140119565876304: TensorSpec(shape=(), dtype=tf.resource, name=None)\n",
            "  140119565871504: TensorSpec(shape=(), dtype=tf.resource, name=None)\n",
            "  140119565874960: TensorSpec(shape=(), dtype=tf.resource, name=None)\n",
            "  140119566615568: TensorSpec(shape=(), dtype=tf.resource, name=None)\n",
            "  140119566614608: TensorSpec(shape=(), dtype=tf.resource, name=None)\n",
            "  140119565875344: TensorSpec(shape=(), dtype=tf.resource, name=None)\n",
            "  140119566614800: TensorSpec(shape=(), dtype=tf.resource, name=None)\n",
            "  140119566616912: TensorSpec(shape=(), dtype=tf.resource, name=None)\n",
            "  140119566617296: TensorSpec(shape=(), dtype=tf.resource, name=None)\n",
            "  140119566617680: TensorSpec(shape=(), dtype=tf.resource, name=None)\n",
            "  140119566617488: TensorSpec(shape=(), dtype=tf.resource, name=None)\n",
            "  140119566614992: TensorSpec(shape=(), dtype=tf.resource, name=None)\n",
            "  140119566618832: TensorSpec(shape=(), dtype=tf.resource, name=None)\n",
            "  140119566619216: TensorSpec(shape=(), dtype=tf.resource, name=None)\n",
            "  140119566619600: TensorSpec(shape=(), dtype=tf.resource, name=None)\n",
            "  140119566619408: TensorSpec(shape=(), dtype=tf.resource, name=None)\n",
            "  140119566615376: TensorSpec(shape=(), dtype=tf.resource, name=None)\n",
            "  140119566620752: TensorSpec(shape=(), dtype=tf.resource, name=None)\n",
            "  140119566621136: TensorSpec(shape=(), dtype=tf.resource, name=None)\n",
            "  140119566621520: TensorSpec(shape=(), dtype=tf.resource, name=None)\n",
            "  140119566621328: TensorSpec(shape=(), dtype=tf.resource, name=None)\n",
            "  140119566616528: TensorSpec(shape=(), dtype=tf.resource, name=None)\n",
            "  140119566622672: TensorSpec(shape=(), dtype=tf.resource, name=None)\n",
            "  140119566623056: TensorSpec(shape=(), dtype=tf.resource, name=None)\n",
            "  140119566623440: TensorSpec(shape=(), dtype=tf.resource, name=None)\n",
            "  140119566623248: TensorSpec(shape=(), dtype=tf.resource, name=None)\n",
            "  140119566618448: TensorSpec(shape=(), dtype=tf.resource, name=None)\n",
            "  140119566624592: TensorSpec(shape=(), dtype=tf.resource, name=None)\n",
            "  140119566624976: TensorSpec(shape=(), dtype=tf.resource, name=None)\n",
            "  140119566625360: TensorSpec(shape=(), dtype=tf.resource, name=None)\n",
            "  140119566625168: TensorSpec(shape=(), dtype=tf.resource, name=None)\n",
            "  140119566620368: TensorSpec(shape=(), dtype=tf.resource, name=None)\n",
            "  140119566626512: TensorSpec(shape=(), dtype=tf.resource, name=None)\n",
            "  140119566626896: TensorSpec(shape=(), dtype=tf.resource, name=None)\n",
            "  140119566627280: TensorSpec(shape=(), dtype=tf.resource, name=None)\n",
            "  140119566627088: TensorSpec(shape=(), dtype=tf.resource, name=None)\n",
            "  140119566622288: TensorSpec(shape=(), dtype=tf.resource, name=None)\n",
            "  140119566628432: TensorSpec(shape=(), dtype=tf.resource, name=None)\n",
            "  140119566628816: TensorSpec(shape=(), dtype=tf.resource, name=None)\n",
            "  140119566629200: TensorSpec(shape=(), dtype=tf.resource, name=None)\n",
            "  140119566629008: TensorSpec(shape=(), dtype=tf.resource, name=None)\n",
            "  140119566624208: TensorSpec(shape=(), dtype=tf.resource, name=None)\n",
            "  140119566630352: TensorSpec(shape=(), dtype=tf.resource, name=None)\n",
            "  140119566615760: TensorSpec(shape=(), dtype=tf.resource, name=None)\n",
            "  140119566630736: TensorSpec(shape=(), dtype=tf.resource, name=None)\n",
            "  140119566630544: TensorSpec(shape=(), dtype=tf.resource, name=None)\n",
            "  140119566628048: TensorSpec(shape=(), dtype=tf.resource, name=None)\n",
            "  140119564928400: TensorSpec(shape=(), dtype=tf.resource, name=None)\n",
            "  140119564928784: TensorSpec(shape=(), dtype=tf.resource, name=None)\n",
            "  140119564929168: TensorSpec(shape=(), dtype=tf.resource, name=None)\n",
            "  140119564928976: TensorSpec(shape=(), dtype=tf.resource, name=None)\n",
            "  140119564927824: TensorSpec(shape=(), dtype=tf.resource, name=None)\n",
            "  140119564930320: TensorSpec(shape=(), dtype=tf.resource, name=None)\n",
            "  140119564930704: TensorSpec(shape=(), dtype=tf.resource, name=None)\n",
            "  140119564931088: TensorSpec(shape=(), dtype=tf.resource, name=None)\n",
            "  140119564930896: TensorSpec(shape=(), dtype=tf.resource, name=None)\n",
            "  140119564927248: TensorSpec(shape=(), dtype=tf.resource, name=None)\n",
            "  140119564932240: TensorSpec(shape=(), dtype=tf.resource, name=None)\n",
            "  140119564932624: TensorSpec(shape=(), dtype=tf.resource, name=None)\n",
            "  140119564933008: TensorSpec(shape=(), dtype=tf.resource, name=None)\n",
            "  140119564932816: TensorSpec(shape=(), dtype=tf.resource, name=None)\n",
            "  140119564927056: TensorSpec(shape=(), dtype=tf.resource, name=None)\n",
            "  140119564934160: TensorSpec(shape=(), dtype=tf.resource, name=None)\n",
            "  140119564934544: TensorSpec(shape=(), dtype=tf.resource, name=None)\n",
            "  140119564934928: TensorSpec(shape=(), dtype=tf.resource, name=None)\n",
            "  140119564934736: TensorSpec(shape=(), dtype=tf.resource, name=None)\n",
            "  140119564929936: TensorSpec(shape=(), dtype=tf.resource, name=None)\n",
            "  140119564936080: TensorSpec(shape=(), dtype=tf.resource, name=None)\n",
            "  140119564936464: TensorSpec(shape=(), dtype=tf.resource, name=None)\n",
            "  140119564936848: TensorSpec(shape=(), dtype=tf.resource, name=None)\n",
            "  140119564936656: TensorSpec(shape=(), dtype=tf.resource, name=None)\n",
            "  140119564931856: TensorSpec(shape=(), dtype=tf.resource, name=None)\n",
            "  140119564938000: TensorSpec(shape=(), dtype=tf.resource, name=None)\n",
            "  140119564938384: TensorSpec(shape=(), dtype=tf.resource, name=None)\n",
            "  140119564938768: TensorSpec(shape=(), dtype=tf.resource, name=None)\n",
            "  140119564938576: TensorSpec(shape=(), dtype=tf.resource, name=None)\n",
            "  140119564935312: TensorSpec(shape=(), dtype=tf.resource, name=None)\n",
            "  140119564939920: TensorSpec(shape=(), dtype=tf.resource, name=None)\n",
            "  140119564940304: TensorSpec(shape=(), dtype=tf.resource, name=None)\n",
            "  140119564940688: TensorSpec(shape=(), dtype=tf.resource, name=None)\n",
            "  140119564940496: TensorSpec(shape=(), dtype=tf.resource, name=None)\n",
            "  140119564935696: TensorSpec(shape=(), dtype=tf.resource, name=None)\n",
            "  140119564941840: TensorSpec(shape=(), dtype=tf.resource, name=None)\n",
            "  140119564942224: TensorSpec(shape=(), dtype=tf.resource, name=None)\n",
            "  140119564942992: TensorSpec(shape=(), dtype=tf.resource, name=None)\n",
            "  140119564942416: TensorSpec(shape=(), dtype=tf.resource, name=None)\n",
            "  140119564937616: TensorSpec(shape=(), dtype=tf.resource, name=None)\n",
            "  140119564941072: TensorSpec(shape=(), dtype=tf.resource, name=None)\n",
            "  140119565353616: TensorSpec(shape=(), dtype=tf.resource, name=None)\n",
            "  140119565354192: TensorSpec(shape=(), dtype=tf.resource, name=None)\n",
            "  140119564941456: TensorSpec(shape=(), dtype=tf.resource, name=None)\n",
            "  140119565353232: TensorSpec(shape=(), dtype=tf.resource, name=None)\n",
            "  140119565355344: TensorSpec(shape=(), dtype=tf.resource, name=None)\n",
            "  140119565355728: TensorSpec(shape=(), dtype=tf.resource, name=None)\n",
            "  140119565356112: TensorSpec(shape=(), dtype=tf.resource, name=None)\n",
            "  140119565355920: TensorSpec(shape=(), dtype=tf.resource, name=None)\n",
            "  140119565353040: TensorSpec(shape=(), dtype=tf.resource, name=None)\n",
            "  140119565357264: TensorSpec(shape=(), dtype=tf.resource, name=None)\n",
            "  140119565357648: TensorSpec(shape=(), dtype=tf.resource, name=None)\n",
            "  140119565358032: TensorSpec(shape=(), dtype=tf.resource, name=None)\n",
            "  140119565357840: TensorSpec(shape=(), dtype=tf.resource, name=None)\n",
            "  140119565353808: TensorSpec(shape=(), dtype=tf.resource, name=None)\n",
            "  140119565359184: TensorSpec(shape=(), dtype=tf.resource, name=None)\n",
            "  140119565359568: TensorSpec(shape=(), dtype=tf.resource, name=None)\n",
            "  140119565359952: TensorSpec(shape=(), dtype=tf.resource, name=None)\n",
            "  140119565359760: TensorSpec(shape=(), dtype=tf.resource, name=None)\n",
            "  140119565354960: TensorSpec(shape=(), dtype=tf.resource, name=None)\n",
            "  140119565361104: TensorSpec(shape=(), dtype=tf.resource, name=None)\n",
            "  140119565361488: TensorSpec(shape=(), dtype=tf.resource, name=None)\n",
            "  140119565361872: TensorSpec(shape=(), dtype=tf.resource, name=None)\n",
            "  140119565361680: TensorSpec(shape=(), dtype=tf.resource, name=None)\n",
            "  140119565356880: TensorSpec(shape=(), dtype=tf.resource, name=None)\n",
            "  140119565363024: TensorSpec(shape=(), dtype=tf.resource, name=None)\n",
            "  140119565363408: TensorSpec(shape=(), dtype=tf.resource, name=None)\n",
            "  140119565363792: TensorSpec(shape=(), dtype=tf.resource, name=None)\n",
            "  140119565363600: TensorSpec(shape=(), dtype=tf.resource, name=None)\n",
            "  140119565358800: TensorSpec(shape=(), dtype=tf.resource, name=None)\n",
            "  140119565364944: TensorSpec(shape=(), dtype=tf.resource, name=None)\n",
            "  140119565365328: TensorSpec(shape=(), dtype=tf.resource, name=None)\n",
            "  140119565365712: TensorSpec(shape=(), dtype=tf.resource, name=None)\n",
            "  140119565365520: TensorSpec(shape=(), dtype=tf.resource, name=None)\n",
            "  140119565360720: TensorSpec(shape=(), dtype=tf.resource, name=None)\n",
            "  140119565366864: TensorSpec(shape=(), dtype=tf.resource, name=None)\n",
            "  140119565367440: TensorSpec(shape=(), dtype=tf.resource, name=None)\n",
            "  140119565366480: TensorSpec(shape=(), dtype=tf.resource, name=None)\n",
            "  140119565368208: TensorSpec(shape=(), dtype=tf.resource, name=None)\n",
            "Model converted to TFLite and saved as waste_model.tflite\n"
          ]
        }
      ]
    },
    {
      "cell_type": "code",
      "source": [
        "#Inference Test\n",
        "from PIL import Image\n",
        "import numpy as np\n",
        "\n",
        "interpreter = tf.lite.Interpreter(model_path=\"waste_model.tflite\")\n",
        "interpreter.allocate_tensors()\n",
        "\n",
        "input_index = interpreter.get_input_details()[0]['index']\n",
        "output_index = interpreter.get_output_details()[0]['index']\n",
        "\n",
        "# Load a sample image from validation set\n",
        "sample_path = val_dir + '/organic/' + os.listdir(val_dir + '/organic')[0]\n",
        "img = Image.open(sample_path).resize((160,160))\n",
        "x = np.expand_dims(np.array(img)/255.0, axis=0).astype(np.float32)\n",
        "\n",
        "interpreter.set_tensor(input_index, x)\n",
        "interpreter.invoke()\n",
        "\n",
        "pred = interpreter.get_tensor(output_index)\n",
        "print(\"Class indices:\", train_gen.class_indices)\n",
        "print(\"Predicted class:\", np.argmax(pred))\n"
      ],
      "metadata": {
        "colab": {
          "base_uri": "https://localhost:8080/"
        },
        "id": "Kj09Qwl4lDTe",
        "outputId": "7c6fa310-2bb3-42b5-d614-64654e9d5b12"
      },
      "execution_count": 12,
      "outputs": [
        {
          "output_type": "stream",
          "name": "stdout",
          "text": [
            "Class indices: {'organic': 0, 'recyclable': 1}\n",
            "Predicted class: 0\n"
          ]
        }
      ]
    },
    {
      "cell_type": "markdown",
      "source": [
        "##  Edge AI Benefits (Write-up)\n",
        "\n",
        "Edge AI enables **real-time classification** directly on embedded devices like Raspberry Pi. Key benefits:\n",
        "\n",
        "-  **Low Latency**: No internet or cloud roundtrips needed.\n",
        "-  **Better Privacy**: No images are sent to cloud servers.\n",
        "-  **Efficient**: Great for smart bins, sorting robots, or mobile apps."
      ],
      "metadata": {
        "id": "F4gwwG2BoTjr"
      }
    },
    {
      "cell_type": "code",
      "source": [
        "#Deployment\n",
        "from google.colab import files\n",
        "files.download(\"waste_model.tflite\")"
      ],
      "metadata": {
        "colab": {
          "base_uri": "https://localhost:8080/",
          "height": 17
        },
        "id": "qp_tubN4orSi",
        "outputId": "c8735392-41e5-4bf0-eba2-18cc83f42b54"
      },
      "execution_count": 14,
      "outputs": [
        {
          "output_type": "display_data",
          "data": {
            "text/plain": [
              "<IPython.core.display.Javascript object>"
            ],
            "application/javascript": [
              "\n",
              "    async function download(id, filename, size) {\n",
              "      if (!google.colab.kernel.accessAllowed) {\n",
              "        return;\n",
              "      }\n",
              "      const div = document.createElement('div');\n",
              "      const label = document.createElement('label');\n",
              "      label.textContent = `Downloading \"${filename}\": `;\n",
              "      div.appendChild(label);\n",
              "      const progress = document.createElement('progress');\n",
              "      progress.max = size;\n",
              "      div.appendChild(progress);\n",
              "      document.body.appendChild(div);\n",
              "\n",
              "      const buffers = [];\n",
              "      let downloaded = 0;\n",
              "\n",
              "      const channel = await google.colab.kernel.comms.open(id);\n",
              "      // Send a message to notify the kernel that we're ready.\n",
              "      channel.send({})\n",
              "\n",
              "      for await (const message of channel.messages) {\n",
              "        // Send a message to notify the kernel that we're ready.\n",
              "        channel.send({})\n",
              "        if (message.buffers) {\n",
              "          for (const buffer of message.buffers) {\n",
              "            buffers.push(buffer);\n",
              "            downloaded += buffer.byteLength;\n",
              "            progress.value = downloaded;\n",
              "          }\n",
              "        }\n",
              "      }\n",
              "      const blob = new Blob(buffers, {type: 'application/binary'});\n",
              "      const a = document.createElement('a');\n",
              "      a.href = window.URL.createObjectURL(blob);\n",
              "      a.download = filename;\n",
              "      div.appendChild(a);\n",
              "      a.click();\n",
              "      div.remove();\n",
              "    }\n",
              "  "
            ]
          },
          "metadata": {}
        },
        {
          "output_type": "display_data",
          "data": {
            "text/plain": [
              "<IPython.core.display.Javascript object>"
            ],
            "application/javascript": [
              "download(\"download_37708eff-6bbe-44a8-9ba3-5d80072cc597\", \"waste_model.tflite\", 9521756)"
            ]
          },
          "metadata": {}
        }
      ]
    }
  ]
}